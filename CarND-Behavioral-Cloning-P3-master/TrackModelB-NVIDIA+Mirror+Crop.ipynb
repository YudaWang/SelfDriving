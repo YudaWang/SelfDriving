{
 "cells": [
  {
   "cell_type": "code",
   "execution_count": 1,
   "metadata": {
    "scrolled": true
   },
   "outputs": [
    {
     "name": "stderr",
     "output_type": "stream",
     "text": [
      "Using TensorFlow backend.\n"
     ]
    },
    {
     "name": "stdout",
     "output_type": "stream",
     "text": [
      "Train on 34240 samples, validate on 8560 samples\n",
      "Epoch 1/3\n",
      "34240/34240 [==============================] - 201s - loss: 0.0037 - val_loss: 0.0064\n",
      "Epoch 2/3\n",
      "34240/34240 [==============================] - 189s - loss: 0.0025 - val_loss: 0.0049\n",
      "Epoch 3/3\n",
      "34240/34240 [==============================] - 189s - loss: 0.0023 - val_loss: 0.0057\n"
     ]
    }
   ],
   "source": [
    "# Load pickled data\n",
    "import pickle\n",
    "import numpy as np\n",
    "import tensorflow as tf\n",
    "tf.python.control_flow_ops = tf\n",
    "import csv\n",
    "# import cv2\n",
    "import matplotlib.pyplot as plt\n",
    "import matplotlib.image as mpimg\n",
    "import numpy as np\n",
    "\n",
    "    \n",
    "# Initial Setup for Keras\n",
    "from keras.models import Sequential\n",
    "from keras.layers import Dense, Activation, Flatten, Dropout, Lambda, Cropping2D\n",
    "from keras.layers.convolutional import Convolution2D\n",
    "from keras.layers.pooling import MaxPooling2D\n",
    "\n",
    "\n",
    "\n",
    "lines= []\n",
    "# dataFolder = 'Track1Data1'\n",
    "dataFolder = r'Track1Data6'\n",
    "with open(dataFolder + '/driving_log.csv') as csvfile:\n",
    "    reader = csv.reader(csvfile)\n",
    "    for line in reader:\n",
    "        lines.append(line)\n",
    "        \n",
    "images = []\n",
    "measurements = []\n",
    "for line in lines:\n",
    "    source_path = line[0]\n",
    "    filename = source_path.split('\\\\')[-1]\n",
    "    current_path = dataFolder + '/IMG/' + filename\n",
    "    image = mpimg.imread(current_path)\n",
    "    images.append(image)\n",
    "    measurements.append(line[3]) \n",
    "    \n",
    "\n",
    "X_train = np.array(images)\n",
    "y_train = np.array(measurements).astype('float')\n",
    "\n",
    "X_train = np.concatenate((X_train, np.fliplr(X_train)), axis=0)\n",
    "y_train = np.concatenate((y_train, -1.0*y_train), axis=0)\n",
    "\n",
    "# model = Sequential()\n",
    "# model.add(Flatten(input_shape=(160,320,3)))\n",
    "# model.add(Dense(100)) #1000 would introduce 10~20GB of memory needed, which might overflow\n",
    "# model.add(Dense(1))\n",
    "\n",
    "# model.compile(loss='mse', optimizer='adam')\n",
    "# model.fit(X_train, y_train, validation_split=0.2, shuffle=True, nb_epoch=7)\n",
    "\n",
    "# model.save('modelA.h5')\n",
    "\n",
    "\n",
    "# def my_resize_function(input):\n",
    "#     new_height = 40\n",
    "#     new_width = 160\n",
    "#     from keras.backend import tf as ktf\n",
    "#     return ktf.image.resize_images(input, (new_height, new_width))\n",
    "\n",
    "\n",
    "# TODO: Build the Final Test Neural Network in Keras Here\n",
    "model = Sequential()\n",
    "\n",
    "model.add(Cropping2D(cropping=((60,20),(1,1)), input_shape=(160,320,3)))\n",
    "# model.add(Lambda(lambda x: my_resize_function(x)))\n",
    "model.add(Lambda(lambda x: (x / 255.0) - 0.5)) #output 80*320*3\n",
    "\n",
    "model.add(Convolution2D(24, 5, 5)) #output 75*315*24\n",
    "model.add(Activation('relu'))\n",
    "model.add(MaxPooling2D((2, 2))) #output 35*157*24\n",
    "model.add(Dropout(0.5))\n",
    "\n",
    "model.add(Convolution2D(36, 5, 5)) #output 30*152*36\n",
    "model.add(Activation('relu'))\n",
    "model.add(MaxPooling2D((2, 2))) #output 15*76*36\n",
    "# model.add(Dropout(0.5))\n",
    "\n",
    "model.add(Convolution2D(48, 5, 5)) #output 10*71*48\n",
    "model.add(Activation('relu'))\n",
    "model.add(MaxPooling2D((2, 2))) #output 5*36*48\n",
    "\n",
    "model.add(Convolution2D(64, 3, 3)) #output 2*33*64\n",
    "model.add(Activation('relu'))\n",
    "model.add(MaxPooling2D((2, 2))) #output 1*17*64\n",
    "model.add(Dropout(0.5))\n",
    "\n",
    "model.add(Flatten())  #output 1088\n",
    "model.add(Dense(1000))\n",
    "model.add(Activation('relu'))\n",
    "model.add(Dense(100))\n",
    "model.add(Activation('relu'))\n",
    "model.add(Dense(50))\n",
    "model.add(Activation('relu'))\n",
    "model.add(Dense(10))\n",
    "model.add(Activation('relu'))\n",
    "model.add(Dense(1))\n",
    "\n",
    "model.compile(loss='mse', optimizer='adam')\n",
    "model.fit(X_train, y_train, validation_split=0.2, shuffle=True, nb_epoch=3)\n",
    "\n",
    "model.save('modelBData6+.h5')\n",
    "\n",
    "\n",
    "    "
   ]
  },
  {
   "cell_type": "code",
   "execution_count": 2,
   "metadata": {},
   "outputs": [
    {
     "data": {
      "text/plain": [
       "[<matplotlib.lines.Line2D at 0x7fd43c772b70>]"
      ]
     },
     "execution_count": 2,
     "metadata": {},
     "output_type": "execute_result"
    },
    {
     "data": {
      "image/png": "[encoded data removed]",
      "text/plain": [
       "<matplotlib.figure.Figure at 0x7fd494f0c470>"
      ]
     },
     "metadata": {},
     "output_type": "display_data"
    }
   ],
   "source": [
    "%matplotlib inline\n",
    "plt.plot(y_train.astype('float'))"
   ]
  },
  {
   "cell_type": "code",
   "execution_count": null,
   "metadata": {
    "collapsed": true
   },
   "outputs": [],
   "source": []
  }
 ],
 "metadata": {
  "kernelspec": {
   "display_name": "Python 3",
   "language": "python",
   "name": "python3"
  },
  "language_info": {
   "codemirror_mode": {
    "name": "ipython",
    "version": 3
   },
   "file_extension": ".py",
   "mimetype": "text/x-python",
   "name": "python",
   "nbconvert_exporter": "python",
   "pygments_lexer": "ipython3",
   "version": "3.5.2"
  },
  "widgets": {
   "state": {},
   "version": "1.1.2"
  }
 },
 "nbformat": 4,
 "nbformat_minor": 2
}
